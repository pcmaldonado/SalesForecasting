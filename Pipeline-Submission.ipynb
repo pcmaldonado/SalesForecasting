{
 "cells": [
  {
   "cell_type": "markdown",
   "id": "81c90139",
   "metadata": {},
   "source": [
    "# Import Libraries"
   ]
  },
  {
   "cell_type": "code",
   "execution_count": 1,
   "id": "7cad699f",
   "metadata": {},
   "outputs": [],
   "source": [
    "# Basic libraries\n",
    "import numpy as np\n",
    "import pandas as pd\n",
    "import matplotlib.pyplot as plt\n",
    "import seaborn as sns; sns.set()\n",
    "\n",
    "# To handle data wrangling\n",
    "from sklearn.preprocessing import FunctionTransformer \n",
    "from feature_engine.encoding import CountFrequencyEncoder, OneHotEncoder\n",
    "from feature_engine.imputation import AddMissingIndicator, MeanMedianImputer\n",
    "from feature_engine.selection import DropFeatures\n",
    "from sklearn.pipeline import Pipeline\n",
    "\n",
    "# To import best model\n",
    "import pickle"
   ]
  },
  {
   "cell_type": "markdown",
   "id": "1921fe65",
   "metadata": {},
   "source": [
    "# Load Data"
   ]
  },
  {
   "cell_type": "code",
   "execution_count": 2,
   "id": "a67f1f38",
   "metadata": {},
   "outputs": [],
   "source": [
    "# \"Stores\" data\n",
    "stores = pd.read_csv('stores_data.csv', index_col='Store')"
   ]
  },
  {
   "cell_type": "markdown",
   "id": "dfa1a082",
   "metadata": {},
   "source": [
    "#### Training Data"
   ]
  },
  {
   "cell_type": "code",
   "execution_count": 3,
   "id": "0bb20232",
   "metadata": {},
   "outputs": [],
   "source": [
    "dtypes = {'Store': int,\n",
    "          'DayOfWeek':int,\n",
    "          'Date':str,\n",
    "          'Sales':int,\n",
    "          'Customers':int,\n",
    "          'Open':int,\n",
    "          'Promo':int,\n",
    "          'StateHoliday':str,\n",
    "          'SchoolHoliday':int,\n",
    "}"
   ]
  },
  {
   "cell_type": "code",
   "execution_count": 4,
   "id": "378ab586",
   "metadata": {},
   "outputs": [],
   "source": [
    "# Loading raw data\n",
    "raw_data = pd.read_csv('train.csv', dtype=dtypes, index_col='Date', parse_dates = True)\n",
    "\n",
    "# Dropping unnecessary rows/cols\n",
    "train_data = raw_data[(raw_data.Sales > 0) & (raw_data.Open > 0)]\n",
    "train_data = train_data.drop(['Open', 'Customers'], axis=1)\n",
    "\n",
    "# Joining \"stores\" data\n",
    "train_data = train_data.join(stores, on = 'Store')"
   ]
  },
  {
   "cell_type": "markdown",
   "id": "189501e1",
   "metadata": {},
   "source": [
    "#### Test Data"
   ]
  },
  {
   "cell_type": "code",
   "execution_count": 5,
   "id": "e340f4ab",
   "metadata": {},
   "outputs": [],
   "source": [
    "# Read test data\n",
    "raw_test_data = pd.read_csv('test.csv', index_col = 'Date', parse_dates = True)\n",
    "\n",
    "# Joining \"stores\" data\n",
    "test_data = raw_test_data.join(stores, on = 'Store')"
   ]
  },
  {
   "cell_type": "code",
   "execution_count": 6,
   "id": "bd8e8eac",
   "metadata": {},
   "outputs": [
    {
     "name": "stdout",
     "output_type": "stream",
     "text": [
      "id_closed (5984,)\n",
      "id_open (35093,)\n",
      "id_null (11,)\n"
     ]
    }
   ],
   "source": [
    "id_closed = test_data[test_data.Open == 0].Id\n",
    "print('id_closed', id_closed.shape)\n",
    "\n",
    "id_open = test_data[test_data.Open == 1].Id\n",
    "print('id_open', id_open.shape)\n",
    "\n",
    "id_null = test_data[(test_data.Open != 1) & (test_data.Open != 0)].Id\n",
    "print('id_null', id_null.shape)"
   ]
  },
  {
   "cell_type": "code",
   "execution_count": 7,
   "id": "cba625a9",
   "metadata": {},
   "outputs": [],
   "source": [
    "# Dropping unnecessary rows/cols\n",
    "test_data = test_data[(test_data.Open > 0)]\n",
    "test_data = test_data.drop(['Open', 'Id'], axis=1)"
   ]
  },
  {
   "cell_type": "markdown",
   "id": "bb6d60f4",
   "metadata": {},
   "source": [
    "### Splitting features & target"
   ]
  },
  {
   "cell_type": "code",
   "execution_count": 8,
   "id": "e761682a",
   "metadata": {},
   "outputs": [],
   "source": [
    "X_train = train_data.drop(['Sales'], axis = 1)\n",
    "y_train = train_data.Sales"
   ]
  },
  {
   "cell_type": "code",
   "execution_count": 9,
   "id": "5d57f739",
   "metadata": {},
   "outputs": [],
   "source": [
    "X_test = test_data"
   ]
  },
  {
   "cell_type": "code",
   "execution_count": 10,
   "id": "80db8721",
   "metadata": {},
   "outputs": [
    {
     "name": "stdout",
     "output_type": "stream",
     "text": [
      "(844338, 21)\n"
     ]
    },
    {
     "data": {
      "text/html": [
       "<div>\n",
       "<style scoped>\n",
       "    .dataframe tbody tr th:only-of-type {\n",
       "        vertical-align: middle;\n",
       "    }\n",
       "\n",
       "    .dataframe tbody tr th {\n",
       "        vertical-align: top;\n",
       "    }\n",
       "\n",
       "    .dataframe thead th {\n",
       "        text-align: right;\n",
       "    }\n",
       "</style>\n",
       "<table border=\"1\" class=\"dataframe\">\n",
       "  <thead>\n",
       "    <tr style=\"text-align: right;\">\n",
       "      <th></th>\n",
       "      <th>Store</th>\n",
       "      <th>DayOfWeek</th>\n",
       "      <th>Promo</th>\n",
       "      <th>StateHoliday</th>\n",
       "      <th>SchoolHoliday</th>\n",
       "      <th>StoreType</th>\n",
       "      <th>CompetitionDistance</th>\n",
       "      <th>CompetitionOpenSinceMonth</th>\n",
       "      <th>CompetitionOpenSinceYear</th>\n",
       "      <th>Promo2</th>\n",
       "      <th>...</th>\n",
       "      <th>Promo2SinceYear</th>\n",
       "      <th>Assortment_basic</th>\n",
       "      <th>Assortment_extended</th>\n",
       "      <th>Assortment_extra</th>\n",
       "      <th>PromoInterval_0</th>\n",
       "      <th>PromoInterval_Jan,Apr,Jul,Oct</th>\n",
       "      <th>PromoInterval_Feb,May,Aug,Nov</th>\n",
       "      <th>PromoInterval_Mar,Jun,Sept,Dec</th>\n",
       "      <th>StateGDP</th>\n",
       "      <th>StateDensity</th>\n",
       "    </tr>\n",
       "    <tr>\n",
       "      <th>Date</th>\n",
       "      <th></th>\n",
       "      <th></th>\n",
       "      <th></th>\n",
       "      <th></th>\n",
       "      <th></th>\n",
       "      <th></th>\n",
       "      <th></th>\n",
       "      <th></th>\n",
       "      <th></th>\n",
       "      <th></th>\n",
       "      <th></th>\n",
       "      <th></th>\n",
       "      <th></th>\n",
       "      <th></th>\n",
       "      <th></th>\n",
       "      <th></th>\n",
       "      <th></th>\n",
       "      <th></th>\n",
       "      <th></th>\n",
       "      <th></th>\n",
       "      <th></th>\n",
       "    </tr>\n",
       "  </thead>\n",
       "  <tbody>\n",
       "    <tr>\n",
       "      <th>2015-07-31</th>\n",
       "      <td>1</td>\n",
       "      <td>5</td>\n",
       "      <td>1</td>\n",
       "      <td>0</td>\n",
       "      <td>1</td>\n",
       "      <td>148</td>\n",
       "      <td>7.146772</td>\n",
       "      <td>9</td>\n",
       "      <td>2008</td>\n",
       "      <td>0</td>\n",
       "      <td>...</td>\n",
       "      <td>0</td>\n",
       "      <td>1</td>\n",
       "      <td>0</td>\n",
       "      <td>0</td>\n",
       "      <td>1</td>\n",
       "      <td>0</td>\n",
       "      <td>0</td>\n",
       "      <td>0</td>\n",
       "      <td>37509</td>\n",
       "      <td>287</td>\n",
       "    </tr>\n",
       "    <tr>\n",
       "      <th>2015-07-31</th>\n",
       "      <td>2</td>\n",
       "      <td>5</td>\n",
       "      <td>1</td>\n",
       "      <td>0</td>\n",
       "      <td>1</td>\n",
       "      <td>602</td>\n",
       "      <td>6.345636</td>\n",
       "      <td>11</td>\n",
       "      <td>2007</td>\n",
       "      <td>1</td>\n",
       "      <td>...</td>\n",
       "      <td>2010</td>\n",
       "      <td>1</td>\n",
       "      <td>0</td>\n",
       "      <td>0</td>\n",
       "      <td>0</td>\n",
       "      <td>1</td>\n",
       "      <td>0</td>\n",
       "      <td>0</td>\n",
       "      <td>21663</td>\n",
       "      <td>138</td>\n",
       "    </tr>\n",
       "    <tr>\n",
       "      <th>2015-07-31</th>\n",
       "      <td>3</td>\n",
       "      <td>5</td>\n",
       "      <td>1</td>\n",
       "      <td>0</td>\n",
       "      <td>1</td>\n",
       "      <td>602</td>\n",
       "      <td>9.556055</td>\n",
       "      <td>12</td>\n",
       "      <td>2006</td>\n",
       "      <td>1</td>\n",
       "      <td>...</td>\n",
       "      <td>2011</td>\n",
       "      <td>1</td>\n",
       "      <td>0</td>\n",
       "      <td>0</td>\n",
       "      <td>0</td>\n",
       "      <td>1</td>\n",
       "      <td>0</td>\n",
       "      <td>0</td>\n",
       "      <td>32882</td>\n",
       "      <td>523</td>\n",
       "    </tr>\n",
       "  </tbody>\n",
       "</table>\n",
       "<p>3 rows × 21 columns</p>\n",
       "</div>"
      ],
      "text/plain": [
       "            Store  DayOfWeek  Promo StateHoliday  SchoolHoliday  StoreType  \\\n",
       "Date                                                                         \n",
       "2015-07-31      1          5      1            0              1        148   \n",
       "2015-07-31      2          5      1            0              1        602   \n",
       "2015-07-31      3          5      1            0              1        602   \n",
       "\n",
       "            CompetitionDistance  CompetitionOpenSinceMonth  \\\n",
       "Date                                                         \n",
       "2015-07-31             7.146772                          9   \n",
       "2015-07-31             6.345636                         11   \n",
       "2015-07-31             9.556055                         12   \n",
       "\n",
       "            CompetitionOpenSinceYear  Promo2  ...  Promo2SinceYear  \\\n",
       "Date                                          ...                    \n",
       "2015-07-31                      2008       0  ...                0   \n",
       "2015-07-31                      2007       1  ...             2010   \n",
       "2015-07-31                      2006       1  ...             2011   \n",
       "\n",
       "            Assortment_basic  Assortment_extended  Assortment_extra  \\\n",
       "Date                                                                  \n",
       "2015-07-31                 1                    0                 0   \n",
       "2015-07-31                 1                    0                 0   \n",
       "2015-07-31                 1                    0                 0   \n",
       "\n",
       "            PromoInterval_0  PromoInterval_Jan,Apr,Jul,Oct  \\\n",
       "Date                                                         \n",
       "2015-07-31                1                              0   \n",
       "2015-07-31                0                              1   \n",
       "2015-07-31                0                              1   \n",
       "\n",
       "            PromoInterval_Feb,May,Aug,Nov  PromoInterval_Mar,Jun,Sept,Dec  \\\n",
       "Date                                                                        \n",
       "2015-07-31                              0                               0   \n",
       "2015-07-31                              0                               0   \n",
       "2015-07-31                              0                               0   \n",
       "\n",
       "            StateGDP  StateDensity  \n",
       "Date                                \n",
       "2015-07-31     37509           287  \n",
       "2015-07-31     21663           138  \n",
       "2015-07-31     32882           523  \n",
       "\n",
       "[3 rows x 21 columns]"
      ]
     },
     "execution_count": 10,
     "metadata": {},
     "output_type": "execute_result"
    }
   ],
   "source": [
    "print(X_train.shape)\n",
    "X_train.head(3)"
   ]
  },
  {
   "cell_type": "code",
   "execution_count": 11,
   "id": "9d45d718",
   "metadata": {},
   "outputs": [
    {
     "name": "stdout",
     "output_type": "stream",
     "text": [
      "(35093, 21)\n"
     ]
    },
    {
     "data": {
      "text/html": [
       "<div>\n",
       "<style scoped>\n",
       "    .dataframe tbody tr th:only-of-type {\n",
       "        vertical-align: middle;\n",
       "    }\n",
       "\n",
       "    .dataframe tbody tr th {\n",
       "        vertical-align: top;\n",
       "    }\n",
       "\n",
       "    .dataframe thead th {\n",
       "        text-align: right;\n",
       "    }\n",
       "</style>\n",
       "<table border=\"1\" class=\"dataframe\">\n",
       "  <thead>\n",
       "    <tr style=\"text-align: right;\">\n",
       "      <th></th>\n",
       "      <th>Store</th>\n",
       "      <th>DayOfWeek</th>\n",
       "      <th>Promo</th>\n",
       "      <th>StateHoliday</th>\n",
       "      <th>SchoolHoliday</th>\n",
       "      <th>StoreType</th>\n",
       "      <th>CompetitionDistance</th>\n",
       "      <th>CompetitionOpenSinceMonth</th>\n",
       "      <th>CompetitionOpenSinceYear</th>\n",
       "      <th>Promo2</th>\n",
       "      <th>...</th>\n",
       "      <th>Promo2SinceYear</th>\n",
       "      <th>Assortment_basic</th>\n",
       "      <th>Assortment_extended</th>\n",
       "      <th>Assortment_extra</th>\n",
       "      <th>PromoInterval_0</th>\n",
       "      <th>PromoInterval_Jan,Apr,Jul,Oct</th>\n",
       "      <th>PromoInterval_Feb,May,Aug,Nov</th>\n",
       "      <th>PromoInterval_Mar,Jun,Sept,Dec</th>\n",
       "      <th>StateGDP</th>\n",
       "      <th>StateDensity</th>\n",
       "    </tr>\n",
       "    <tr>\n",
       "      <th>Date</th>\n",
       "      <th></th>\n",
       "      <th></th>\n",
       "      <th></th>\n",
       "      <th></th>\n",
       "      <th></th>\n",
       "      <th></th>\n",
       "      <th></th>\n",
       "      <th></th>\n",
       "      <th></th>\n",
       "      <th></th>\n",
       "      <th></th>\n",
       "      <th></th>\n",
       "      <th></th>\n",
       "      <th></th>\n",
       "      <th></th>\n",
       "      <th></th>\n",
       "      <th></th>\n",
       "      <th></th>\n",
       "      <th></th>\n",
       "      <th></th>\n",
       "      <th></th>\n",
       "    </tr>\n",
       "  </thead>\n",
       "  <tbody>\n",
       "    <tr>\n",
       "      <th>2015-08-01</th>\n",
       "      <td>1113</td>\n",
       "      <td>6</td>\n",
       "      <td>0</td>\n",
       "      <td>0</td>\n",
       "      <td>0</td>\n",
       "      <td>602</td>\n",
       "      <td>9.133459</td>\n",
       "      <td>8</td>\n",
       "      <td>2010</td>\n",
       "      <td>0</td>\n",
       "      <td>...</td>\n",
       "      <td>0</td>\n",
       "      <td>0</td>\n",
       "      <td>1</td>\n",
       "      <td>0</td>\n",
       "      <td>1</td>\n",
       "      <td>0</td>\n",
       "      <td>0</td>\n",
       "      <td>0</td>\n",
       "      <td>25947</td>\n",
       "      <td>179</td>\n",
       "    </tr>\n",
       "    <tr>\n",
       "      <th>2015-08-01</th>\n",
       "      <td>1114</td>\n",
       "      <td>6</td>\n",
       "      <td>0</td>\n",
       "      <td>0</td>\n",
       "      <td>0</td>\n",
       "      <td>602</td>\n",
       "      <td>6.768493</td>\n",
       "      <td>8</td>\n",
       "      <td>2010</td>\n",
       "      <td>0</td>\n",
       "      <td>...</td>\n",
       "      <td>0</td>\n",
       "      <td>0</td>\n",
       "      <td>1</td>\n",
       "      <td>0</td>\n",
       "      <td>1</td>\n",
       "      <td>0</td>\n",
       "      <td>0</td>\n",
       "      <td>0</td>\n",
       "      <td>52401</td>\n",
       "      <td>2368</td>\n",
       "    </tr>\n",
       "    <tr>\n",
       "      <th>2015-08-01</th>\n",
       "      <td>1115</td>\n",
       "      <td>6</td>\n",
       "      <td>0</td>\n",
       "      <td>0</td>\n",
       "      <td>1</td>\n",
       "      <td>348</td>\n",
       "      <td>8.584852</td>\n",
       "      <td>8</td>\n",
       "      <td>2010</td>\n",
       "      <td>1</td>\n",
       "      <td>...</td>\n",
       "      <td>2012</td>\n",
       "      <td>0</td>\n",
       "      <td>1</td>\n",
       "      <td>0</td>\n",
       "      <td>0</td>\n",
       "      <td>0</td>\n",
       "      <td>0</td>\n",
       "      <td>1</td>\n",
       "      <td>37509</td>\n",
       "      <td>287</td>\n",
       "    </tr>\n",
       "  </tbody>\n",
       "</table>\n",
       "<p>3 rows × 21 columns</p>\n",
       "</div>"
      ],
      "text/plain": [
       "            Store  DayOfWeek  Promo StateHoliday  SchoolHoliday  StoreType  \\\n",
       "Date                                                                         \n",
       "2015-08-01   1113          6      0            0              0        602   \n",
       "2015-08-01   1114          6      0            0              0        602   \n",
       "2015-08-01   1115          6      0            0              1        348   \n",
       "\n",
       "            CompetitionDistance  CompetitionOpenSinceMonth  \\\n",
       "Date                                                         \n",
       "2015-08-01             9.133459                          8   \n",
       "2015-08-01             6.768493                          8   \n",
       "2015-08-01             8.584852                          8   \n",
       "\n",
       "            CompetitionOpenSinceYear  Promo2  ...  Promo2SinceYear  \\\n",
       "Date                                          ...                    \n",
       "2015-08-01                      2010       0  ...                0   \n",
       "2015-08-01                      2010       0  ...                0   \n",
       "2015-08-01                      2010       1  ...             2012   \n",
       "\n",
       "            Assortment_basic  Assortment_extended  Assortment_extra  \\\n",
       "Date                                                                  \n",
       "2015-08-01                 0                    1                 0   \n",
       "2015-08-01                 0                    1                 0   \n",
       "2015-08-01                 0                    1                 0   \n",
       "\n",
       "            PromoInterval_0  PromoInterval_Jan,Apr,Jul,Oct  \\\n",
       "Date                                                         \n",
       "2015-08-01                1                              0   \n",
       "2015-08-01                1                              0   \n",
       "2015-08-01                0                              0   \n",
       "\n",
       "            PromoInterval_Feb,May,Aug,Nov  PromoInterval_Mar,Jun,Sept,Dec  \\\n",
       "Date                                                                        \n",
       "2015-08-01                              0                               0   \n",
       "2015-08-01                              0                               0   \n",
       "2015-08-01                              0                               1   \n",
       "\n",
       "            StateGDP  StateDensity  \n",
       "Date                                \n",
       "2015-08-01     25947           179  \n",
       "2015-08-01     52401          2368  \n",
       "2015-08-01     37509           287  \n",
       "\n",
       "[3 rows x 21 columns]"
      ]
     },
     "execution_count": 11,
     "metadata": {},
     "output_type": "execute_result"
    }
   ],
   "source": [
    "print(X_test.shape)\n",
    "X_test.tail(3)"
   ]
  },
  {
   "cell_type": "markdown",
   "id": "f727bf69",
   "metadata": {},
   "source": [
    "# Configuration"
   ]
  },
  {
   "cell_type": "markdown",
   "id": "f7713b46",
   "metadata": {},
   "source": [
    "## Target"
   ]
  },
  {
   "cell_type": "code",
   "execution_count": 12,
   "id": "f3304161",
   "metadata": {},
   "outputs": [],
   "source": [
    "y_train = np.log(y_train)"
   ]
  },
  {
   "cell_type": "markdown",
   "id": "c8ba05da",
   "metadata": {},
   "source": [
    "## Features"
   ]
  },
  {
   "cell_type": "code",
   "execution_count": 13,
   "id": "aac65b7b",
   "metadata": {},
   "outputs": [],
   "source": [
    "def extract_dates(df):\n",
    "    df = df.copy()\n",
    "    \n",
    "    df['Year'] = df.index.year\n",
    "    df['Month'] = df.index.month\n",
    "    df['Week'] = df.index.isocalendar().week\n",
    "    df['Day'] = df.index.day\n",
    "    \n",
    "    return df"
   ]
  },
  {
   "cell_type": "code",
   "execution_count": 14,
   "id": "a0d79003",
   "metadata": {},
   "outputs": [],
   "source": [
    "HOLIDAY_MAPPING = {'0':0, 'a':1, 'b':1, 'c':1}\n",
    "\n",
    "def map_holidays(df):\n",
    "    df = df.copy()\n",
    "    df.StateHoliday = df.StateHoliday.replace(HOLIDAY_MAPPING)\n",
    "    \n",
    "    return df"
   ]
  },
  {
   "cell_type": "code",
   "execution_count": 15,
   "id": "16b2f0d6",
   "metadata": {},
   "outputs": [],
   "source": [
    "with open(\"dict_day_cust.pkl\", \"rb\") as fp:   \n",
    "    dict_day_cust = pickle.load(fp)     \n",
    "    \n",
    "def daily_customers(df):\n",
    "    df['AvgWeaklyCusts'] = df.Week.replace(dict_day_cust)\n",
    "    \n",
    "    return df"
   ]
  },
  {
   "cell_type": "markdown",
   "id": "f6181f98",
   "metadata": {},
   "source": [
    "# Pipeline"
   ]
  },
  {
   "cell_type": "code",
   "execution_count": 16,
   "id": "eb4e5556",
   "metadata": {},
   "outputs": [],
   "source": [
    "pipe = Pipeline([\n",
    "#   ==== ADDING DATE FEATURES ==== \n",
    "     ('date_features', FunctionTransformer(extract_dates)),\n",
    "\n",
    "#   ==== MAPPING ==== \n",
    "     ('holidays', FunctionTransformer(map_holidays)),    \n",
    "    \n",
    "    \n",
    "#   ==== ADDING DAILY CUSTOMERS ==== \n",
    "     ('daily_customers', FunctionTransformer(daily_customers)),    \n",
    "        \n",
    "\n",
    "#    ==== DROP FEATURES ====\n",
    "    # Unnecessary feature\n",
    "    ('drop_stores', DropFeatures(features_to_drop = ['Store'])),\n",
    "        \n",
    "])"
   ]
  },
  {
   "cell_type": "code",
   "execution_count": 17,
   "id": "8a19673e",
   "metadata": {},
   "outputs": [
    {
     "data": {
      "text/plain": [
       "Pipeline(steps=[('date_features',\n",
       "                 FunctionTransformer(func=<function extract_dates at 0x000001B1D9B003A0>)),\n",
       "                ('holidays',\n",
       "                 FunctionTransformer(func=<function map_holidays at 0x000001B1D9B005E0>)),\n",
       "                ('daily_customers',\n",
       "                 FunctionTransformer(func=<function daily_customers at 0x000001B1D9B008B0>)),\n",
       "                ('drop_stores', DropFeatures(features_to_drop=['Store']))])"
      ]
     },
     "execution_count": 17,
     "metadata": {},
     "output_type": "execute_result"
    }
   ],
   "source": [
    "pipe.fit(X_train, y_train)"
   ]
  },
  {
   "cell_type": "code",
   "execution_count": 18,
   "id": "ebaef660",
   "metadata": {},
   "outputs": [],
   "source": [
    "## Transform datasets & get feature names\n",
    "X_train = pipe.transform(X_train)\n",
    "feat_names = X_train.columns"
   ]
  },
  {
   "cell_type": "code",
   "execution_count": 19,
   "id": "9a44f921",
   "metadata": {},
   "outputs": [],
   "source": [
    "X_test = pipe.transform(X_test)"
   ]
  },
  {
   "cell_type": "markdown",
   "id": "14a17906",
   "metadata": {},
   "source": [
    "# Model"
   ]
  },
  {
   "cell_type": "code",
   "execution_count": 20,
   "id": "7e23f6d7",
   "metadata": {},
   "outputs": [
    {
     "name": "stdout",
     "output_type": "stream",
     "text": [
      "Wall time: 47.8 s\n"
     ]
    },
    {
     "data": {
      "text/plain": [
       "RandomForestRegressor(max_depth=48, max_features=24, max_samples=0.8,\n",
       "                      min_samples_leaf=2, min_samples_split=3, n_estimators=50,\n",
       "                      n_jobs=-1, random_state=42)"
      ]
     },
     "execution_count": 20,
     "metadata": {},
     "output_type": "execute_result"
    }
   ],
   "source": [
    "%%time\n",
    "with open(\"RFRegressor.pkl\", \"rb\") as fp:  \n",
    "    model = pickle.load(fp)\n",
    "\n",
    "model.fit(X_train, y_train)"
   ]
  },
  {
   "cell_type": "code",
   "execution_count": 21,
   "id": "a3a8db56",
   "metadata": {},
   "outputs": [
    {
     "data": {
      "text/plain": [
       "array([ 4136.15980729,  7611.89405383,  9015.89700287, ...,\n",
       "        6449.4624308 , 20825.63704512,  7515.36936757])"
      ]
     },
     "execution_count": 21,
     "metadata": {},
     "output_type": "execute_result"
    }
   ],
   "source": [
    "y_pred = model.predict(X_test)\n",
    "y_pred = np.exp(y_pred)\n",
    "y_pred"
   ]
  },
  {
   "cell_type": "code",
   "execution_count": 22,
   "id": "4388dfa0",
   "metadata": {},
   "outputs": [],
   "source": [
    "# Scale back predictions as suggested https://www.kaggle.com/competitions/rossmann-store-sales/discussion/17601\n",
    "y_pred_scaled = y_pred * 0.985"
   ]
  },
  {
   "cell_type": "code",
   "execution_count": 23,
   "id": "6f263a6a",
   "metadata": {},
   "outputs": [],
   "source": [
    "dic_open = {key:value for (key, value) in zip(id_open, y_pred_scaled)}\n",
    "dic_closed = {key:0 for key in id_closed}\n",
    "dic_null = {key:6955 for key in id_null} #average price in train set"
   ]
  },
  {
   "cell_type": "code",
   "execution_count": 24,
   "id": "e25a1ac0",
   "metadata": {},
   "outputs": [],
   "source": [
    "def merge_dicts(*dict_args):\n",
    "    \"\"\"\n",
    "    Given any number of dictionaries, shallow copy and merge into a new dict,\n",
    "    precedence goes to key-value pairs in latter dictionaries.\n",
    "    \"\"\"\n",
    "    result = {}\n",
    "    for dictionary in dict_args:\n",
    "        result.update(dictionary)\n",
    "    return result"
   ]
  },
  {
   "cell_type": "code",
   "execution_count": 25,
   "id": "8ec9468d",
   "metadata": {},
   "outputs": [],
   "source": [
    "predictions = merge_dicts(dic_open, dic_closed, dic_null)"
   ]
  },
  {
   "cell_type": "code",
   "execution_count": 26,
   "id": "a7a51324",
   "metadata": {},
   "outputs": [],
   "source": [
    "df_pred = pd.DataFrame(predictions.items(), columns = ['Id', 'Sales'])\n",
    "df_pred = df_pred.sort_values('Id')"
   ]
  },
  {
   "cell_type": "code",
   "execution_count": 27,
   "id": "057a0e32",
   "metadata": {},
   "outputs": [
    {
     "data": {
      "text/html": [
       "<div>\n",
       "<style scoped>\n",
       "    .dataframe tbody tr th:only-of-type {\n",
       "        vertical-align: middle;\n",
       "    }\n",
       "\n",
       "    .dataframe tbody tr th {\n",
       "        vertical-align: top;\n",
       "    }\n",
       "\n",
       "    .dataframe thead th {\n",
       "        text-align: right;\n",
       "    }\n",
       "</style>\n",
       "<table border=\"1\" class=\"dataframe\">\n",
       "  <thead>\n",
       "    <tr style=\"text-align: right;\">\n",
       "      <th></th>\n",
       "      <th>Sales</th>\n",
       "    </tr>\n",
       "    <tr>\n",
       "      <th>Id</th>\n",
       "      <th></th>\n",
       "    </tr>\n",
       "  </thead>\n",
       "  <tbody>\n",
       "    <tr>\n",
       "      <th>1</th>\n",
       "      <td>4074.117410</td>\n",
       "    </tr>\n",
       "    <tr>\n",
       "      <th>2</th>\n",
       "      <td>7497.715643</td>\n",
       "    </tr>\n",
       "    <tr>\n",
       "      <th>3</th>\n",
       "      <td>8880.658548</td>\n",
       "    </tr>\n",
       "    <tr>\n",
       "      <th>4</th>\n",
       "      <td>7054.068734</td>\n",
       "    </tr>\n",
       "    <tr>\n",
       "      <th>5</th>\n",
       "      <td>7169.259282</td>\n",
       "    </tr>\n",
       "  </tbody>\n",
       "</table>\n",
       "</div>"
      ],
      "text/plain": [
       "          Sales\n",
       "Id             \n",
       "1   4074.117410\n",
       "2   7497.715643\n",
       "3   8880.658548\n",
       "4   7054.068734\n",
       "5   7169.259282"
      ]
     },
     "execution_count": 27,
     "metadata": {},
     "output_type": "execute_result"
    }
   ],
   "source": [
    "df_pred.index = df_pred.loc[:, 'Id']\n",
    "df_pred.drop(['Id'], axis = 1).head()"
   ]
  },
  {
   "cell_type": "code",
   "execution_count": 28,
   "id": "20cb4a69",
   "metadata": {},
   "outputs": [],
   "source": [
    "df_pred.to_csv('submission_scaled.csv', index = False)"
   ]
  },
  {
   "cell_type": "markdown",
   "id": "b14e1423",
   "metadata": {},
   "source": [
    "# Forecasting plot"
   ]
  },
  {
   "cell_type": "code",
   "execution_count": 29,
   "id": "0dcf4854",
   "metadata": {},
   "outputs": [],
   "source": [
    "y_true_july = raw_data.loc['2015 july'][['Sales']]\n",
    "\n",
    "df_sales_pred = pd.DataFrame(y_pred_scaled, \n",
    "                        index = X_test.index, \n",
    "                        columns = ['Forecasting'])"
   ]
  },
  {
   "cell_type": "code",
   "execution_count": 30,
   "id": "31af9f32",
   "metadata": {},
   "outputs": [],
   "source": [
    "sales_forecasting = df_sales_pred.join(y_true_july, how = 'outer')"
   ]
  },
  {
   "cell_type": "code",
   "execution_count": 31,
   "id": "744090ba",
   "metadata": {},
   "outputs": [],
   "source": [
    "# Set custom palette\n",
    "colors = ['#0F7173', '#885A89', '#6A381F', '#FCBF49', '#F3DFA2',  '#96E072']\n",
    "sns.set_palette(sns.color_palette(colors))"
   ]
  },
  {
   "cell_type": "code",
   "execution_count": 32,
   "id": "85abbb7d",
   "metadata": {},
   "outputs": [
    {
     "data": {
      "image/png": "[encoded data removed]",
      "text/plain": [
       "<Figure size 1080x504 with 1 Axes>"
      ]
     },
     "metadata": {},
     "output_type": "display_data"
    }
   ],
   "source": [
    "sales_forecasting.plot(figsize = (15, 7))\n",
    "plt.legend()\n",
    "plt.title('-No closed days-', size =15)\n",
    "plt.suptitle('     Sales Forecasting', weight = 'bold', size = 17)\n",
    "plt.show()"
   ]
  },
  {
   "cell_type": "code",
   "execution_count": null,
   "id": "6761a1f1",
   "metadata": {},
   "outputs": [],
   "source": []
  }
 ],
 "metadata": {
  "kernelspec": {
   "display_name": "Python 3 (ipykernel)",
   "language": "python",
   "name": "python3"
  },
  "language_info": {
   "codemirror_mode": {
    "name": "ipython",
    "version": 3
   },
   "file_extension": ".py",
   "mimetype": "text/x-python",
   "name": "python",
   "nbconvert_exporter": "python",
   "pygments_lexer": "ipython3",
   "version": "3.9.7"
  }
 },
 "nbformat": 4,
 "nbformat_minor": 5
}
